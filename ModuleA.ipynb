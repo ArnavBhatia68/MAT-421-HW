{
  "nbformat": 4,
  "nbformat_minor": 0,
  "metadata": {
    "colab": {
      "provenance": [],
      "authorship_tag": "ABX9TyN0FdmfcVC7JchTT5Q3puRH",
      "include_colab_link": true
    },
    "kernelspec": {
      "name": "python3",
      "display_name": "Python 3"
    },
    "language_info": {
      "name": "python"
    }
  },
  "cells": [
    {
      "cell_type": "markdown",
      "metadata": {
        "id": "view-in-github",
        "colab_type": "text"
      },
      "source": [
        "<a href=\"https://colab.research.google.com/github/ArnavBhatia68/MAT-421-HW/blob/main/ModuleA.ipynb\" target=\"_parent\"><img src=\"https://colab.research.google.com/assets/colab-badge.svg\" alt=\"Open In Colab\"/></a>"
      ]
    },
    {
      "cell_type": "markdown",
      "source": [
        "Course: MAT421\n",
        "\n",
        "Name : Arnav Bhatia\n",
        "\n",
        "Date 01/19/2025\n",
        "\n",
        "\n",
        "9.1 Base-N and Binary\n",
        "\n",
        "Explanation\n",
        "\n",
        "In everyday life, we typically use base 10 (decimal), meaning digits go from 0 to 9.\n",
        "Computers work with voltages (on/off), which corresponds to binary or base 2, where digits are only 0 or 1.\n",
        "We often need conversions between decimal, binary, and other bases (like base 16, or hexadecimal).\n",
        "\n",
        "\n",
        "Examples\n",
        "Base 10 Decomposition\n"
      ],
      "metadata": {
        "id": "we-08jm-Z85w"
      }
    },
    {
      "cell_type": "code",
      "source": [
        "# In [1]:\n",
        "\n",
        "# 123 (Base 10)\n",
        "123 == (1*10**2 + 2*10**1 + 3*10**0)\n",
        "\n"
      ],
      "metadata": {
        "colab": {
          "base_uri": "https://localhost:8080/"
        },
        "id": "e4h4FcLuaYAR",
        "outputId": "70cb1f61-26bf-41d2-88f0-6ab428330010"
      },
      "execution_count": null,
      "outputs": [
        {
          "output_type": "execute_result",
          "data": {
            "text/plain": [
              "True"
            ]
          },
          "metadata": {},
          "execution_count": 1
        }
      ]
    },
    {
      "cell_type": "markdown",
      "source": [
        "Base 16 (Hexadecimal) Decomposition\n",
        "Hexadecimal uses digits 0–9 and A–F (where A=10, B=11, etc.). For example,\n",
        "\n",
        "0x19 in hexadecimal is:"
      ],
      "metadata": {
        "id": "gufdAJj-albo"
      }
    },
    {
      "cell_type": "code",
      "source": [
        "# In [2]:\n",
        "\n",
        "(1*16**1 + 9*16**0) == 25\n"
      ],
      "metadata": {
        "colab": {
          "base_uri": "https://localhost:8080/"
        },
        "id": "iWKNvk9IapIE",
        "outputId": "c567aa18-40fe-435a-ba0f-9fd229b0d487"
      },
      "execution_count": null,
      "outputs": [
        {
          "output_type": "execute_result",
          "data": {
            "text/plain": [
              "True"
            ]
          },
          "metadata": {},
          "execution_count": 2
        }
      ]
    },
    {
      "cell_type": "markdown",
      "source": [
        "Binary (Base 2) to Decimal Conversion\n",
        "Binary digits (bits) are just 0 or 1. For example, 10101 (base 2) is:"
      ],
      "metadata": {
        "id": "x0uYXvqsaxnz"
      }
    },
    {
      "cell_type": "code",
      "source": [
        "# In [3]:\n",
        "\n",
        "(1*2**4 + 0*2**3 + 1*2**2 + 0*2**1 + 1*2**0) == 21\n",
        "\n"
      ],
      "metadata": {
        "colab": {
          "base_uri": "https://localhost:8080/"
        },
        "id": "IsBnPIUva5Ys",
        "outputId": "c3b372f2-040e-42f3-a01a-2a3c2a346f59"
      },
      "execution_count": null,
      "outputs": [
        {
          "output_type": "execute_result",
          "data": {
            "text/plain": [
              "True"
            ]
          },
          "metadata": {},
          "execution_count": 3
        }
      ]
    },
    {
      "cell_type": "markdown",
      "source": [
        "Binary Arithmetic\n",
        "Addition (e.g., 12 + 10 in binary = 22 decimal)\n"
      ],
      "metadata": {
        "id": "PHjMi0k5nX7N"
      }
    },
    {
      "cell_type": "code",
      "source": [
        "# In [4]:\n",
        "\n",
        "# 12 (decimal) is 0b1100\n",
        "# 10 (decimal) is 0b1010\n",
        "# 12 + 10 = 22 (decimal), which is 0b10110 in binary\n",
        "\n",
        "(0b1100 + 0b1010) == 0b10110"
      ],
      "metadata": {
        "colab": {
          "base_uri": "https://localhost:8080/"
        },
        "id": "bm4KfoQRneCm",
        "outputId": "f40ce43e-6c2d-4331-90c3-0b2b6faee6f6"
      },
      "execution_count": null,
      "outputs": [
        {
          "output_type": "execute_result",
          "data": {
            "text/plain": [
              "True"
            ]
          },
          "metadata": {},
          "execution_count": 10
        }
      ]
    },
    {
      "cell_type": "markdown",
      "source": [
        "Multiplication (e.g., 10 (decimal) * 4 (decimal) in binary)"
      ],
      "metadata": {
        "id": "rknToTRAnkoO"
      }
    },
    {
      "cell_type": "code",
      "source": [
        "# In [5]:\n",
        "\n",
        "# 10 (decimal) is 0b1010\n",
        "# 4 (decimal)  is 0b100\n",
        "# 10 * 4 = 40 (decimal), which is 0b101000\n",
        "\n",
        "(0b1010 * 0b100) == 0b101000\n"
      ],
      "metadata": {
        "colab": {
          "base_uri": "https://localhost:8080/"
        },
        "id": "Flt0kGVknllK",
        "outputId": "5eba1993-b307-41ad-f663-a8dfe719cc26"
      },
      "execution_count": null,
      "outputs": [
        {
          "output_type": "execute_result",
          "data": {
            "text/plain": [
              "True"
            ]
          },
          "metadata": {},
          "execution_count": 11
        }
      ]
    },
    {
      "cell_type": "markdown",
      "source": [
        "9.2 Floating Point Numbers\n",
        "Explanation\n",
        "\n",
        "Most programming languages (including Python) use the IEEE 754 standard for floating point representation.\n",
        "In double precision (often float in Python), 64 bits are split into:\n",
        "1 bit for the sign (positive/negative)\n",
        "11 bits for the exponent\n",
        "52 bits for the fraction (mantissa)\n",
        "Not all real numbers can be represented exactly with a finite number of bits. This leads to round-off and precision issues.\n"
      ],
      "metadata": {
        "id": "6R9-Y-skbL5i"
      }
    },
    {
      "cell_type": "code",
      "source": [
        "# In [6]:\n",
        "\n",
        "import sys\n",
        "\n",
        "# Display the system's float info (double precision)\n",
        "sys.float_info"
      ],
      "metadata": {
        "colab": {
          "base_uri": "https://localhost:8080/"
        },
        "id": "bivVTjRpbTiG",
        "outputId": "c2c84871-0a9b-4433-9c32-cdc549342a8f"
      },
      "execution_count": null,
      "outputs": [
        {
          "output_type": "execute_result",
          "data": {
            "text/plain": [
              "sys.float_info(max=1.7976931348623157e+308, max_exp=1024, max_10_exp=308, min=2.2250738585072014e-308, min_exp=-1021, min_10_exp=-307, dig=15, mant_dig=53, epsilon=2.220446049250313e-16, radix=2, rounds=1)"
            ]
          },
          "metadata": {},
          "execution_count": 4
        }
      ]
    },
    {
      "cell_type": "markdown",
      "source": [
        "Gaps Between Floating Point Numbers\n",
        "\n",
        "As the exponent grows, the spacing between representable numbers increases. For example, near\n",
        "\n",
        "1×10^9 :"
      ],
      "metadata": {
        "id": "cJrnLLvDblcI"
      }
    },
    {
      "cell_type": "code",
      "source": [
        "import numpy as np\n",
        "np.spacing(1e9)"
      ],
      "metadata": {
        "colab": {
          "base_uri": "https://localhost:8080/"
        },
        "id": "SHwhO-GCbqPK",
        "outputId": "16c67d09-ccb5-427a-c43e-8d88f3c5d5cf"
      },
      "execution_count": null,
      "outputs": [
        {
          "output_type": "execute_result",
          "data": {
            "text/plain": [
              "1.1920928955078125e-07"
            ]
          },
          "metadata": {},
          "execution_count": 5
        }
      ]
    },
    {
      "cell_type": "markdown",
      "source": [
        "This means that adding anything smaller than half this gap to 1e9 will not change its value:"
      ],
      "metadata": {
        "id": "srtFwNLJbyQ-"
      }
    },
    {
      "cell_type": "code",
      "source": [
        "# In [8]:\n",
        "\n",
        "1e9 == (1e9 + np.spacing(1e9)/2)\n"
      ],
      "metadata": {
        "colab": {
          "base_uri": "https://localhost:8080/"
        },
        "id": "dVdu16T0b4yI",
        "outputId": "05295a9c-fc07-426b-d954-2a12cc4059dd"
      },
      "execution_count": null,
      "outputs": [
        {
          "output_type": "execute_result",
          "data": {
            "text/plain": [
              "True"
            ]
          },
          "metadata": {},
          "execution_count": 6
        }
      ]
    },
    {
      "cell_type": "markdown",
      "source": [
        "Overflow and Underflow\n",
        "\n",
        "Overflow occurs when a result is larger than the max representable floating-point number, leading to inf in Python.\n",
        "Underflow occurs when a result is smaller than the min positive representable number, which becomes 0.0 in Python."
      ],
      "metadata": {
        "id": "C_MB_oKncOY6"
      }
    },
    {
      "cell_type": "code",
      "source": [
        "# In [9]:\n",
        "\n",
        "big = sys.float_info.max * 2\n",
        "print(big)"
      ],
      "metadata": {
        "colab": {
          "base_uri": "https://localhost:8080/"
        },
        "id": "9A_kCTPBcRQg",
        "outputId": "6a20a27f-274f-4993-dad7-344292ca4c5c"
      },
      "execution_count": null,
      "outputs": [
        {
          "output_type": "stream",
          "name": "stdout",
          "text": [
            "inf\n"
          ]
        }
      ]
    },
    {
      "cell_type": "code",
      "source": [
        "# In [10]:\n",
        "\n",
        "small = 3**-2000  # extremely tiny number\n",
        "print(small)\n"
      ],
      "metadata": {
        "colab": {
          "base_uri": "https://localhost:8080/"
        },
        "id": "59cTw6USn8pM",
        "outputId": "c0ac8688-de61-43ad-ecd3-535c82776005"
      },
      "execution_count": null,
      "outputs": [
        {
          "output_type": "stream",
          "name": "stdout",
          "text": [
            "0.0\n"
          ]
        }
      ]
    },
    {
      "cell_type": "markdown",
      "source": [
        "9.3 Round-off Errors\n",
        "\n",
        "Explanation\n",
        "\n",
        "Representation Error: Certain numbers (like 1/3, 0.1 in binary) cannot be stored exactly in finite binary form.\n",
        "Arithmetic Error: Repeated floating point operations can accumulate these small errors, leading to larger discrepancies over many operations.\n",
        "\n",
        "Examples\n"
      ],
      "metadata": {
        "id": "alyhBWtxcaPO"
      }
    },
    {
      "cell_type": "code",
      "source": [
        "# In [11]:\n",
        "\n",
        "0.1 + 0.2 == 0.3\n"
      ],
      "metadata": {
        "colab": {
          "base_uri": "https://localhost:8080/"
        },
        "id": "F5LCD1vbceKQ",
        "outputId": "b4fd951e-bdb6-44f3-b46e-2517e1d919d3"
      },
      "execution_count": null,
      "outputs": [
        {
          "output_type": "execute_result",
          "data": {
            "text/plain": [
              "False"
            ]
          },
          "metadata": {},
          "execution_count": 8
        }
      ]
    },
    {
      "cell_type": "markdown",
      "source": [
        "Because the actual sum is slightly off from 0.3:"
      ],
      "metadata": {
        "id": "Vl9qcJYZcjIf"
      }
    },
    {
      "cell_type": "code",
      "source": [
        "# In [12]:\n",
        "\n",
        "0.1 + 0.2\n"
      ],
      "metadata": {
        "colab": {
          "base_uri": "https://localhost:8080/"
        },
        "id": "KCELoCQgcj5c",
        "outputId": "0a2ef732-0810-4043-c050-a82afa88a6c4"
      },
      "execution_count": null,
      "outputs": [
        {
          "output_type": "execute_result",
          "data": {
            "text/plain": [
              "0.30000000000000004"
            ]
          },
          "metadata": {},
          "execution_count": 9
        }
      ]
    },
    {
      "cell_type": "markdown",
      "source": [
        "Accumulation of Errors\n",
        "If you repeatedly add small floating values, tiny errors accumulate:"
      ],
      "metadata": {
        "id": "1z2G2HoooJna"
      }
    },
    {
      "cell_type": "code",
      "source": [
        "# In [13]:\n",
        "\n",
        "total = 0.0\n",
        "for i in range(10_000_000):\n",
        "    total += 1e-7\n",
        "\n",
        "print(\"Sum =\", total)\n",
        "print(\"Exact =\", 10_000_000 * 1e-7)\n",
        "print(\"Difference =\", abs(total - (10_000_000 * 1e-7)))\n"
      ],
      "metadata": {
        "colab": {
          "base_uri": "https://localhost:8080/"
        },
        "id": "rBEOADxwoKh8",
        "outputId": "59e7c214-24d0-4235-e8e7-5ee3f5bac587"
      },
      "execution_count": null,
      "outputs": [
        {
          "output_type": "stream",
          "name": "stdout",
          "text": [
            "Sum = 0.99999999975017\n",
            "Exact = 1.0\n",
            "Difference = 2.4983004554002264e-10\n"
          ]
        }
      ]
    },
    {
      "cell_type": "markdown",
      "source": [
        "Mitigating Errors with round()"
      ],
      "metadata": {
        "id": "d6lOeq10ocf8"
      }
    },
    {
      "cell_type": "code",
      "source": [
        "# In [14]:\n",
        "\n",
        "val = 0.2 + 0.4 + 0.6\n",
        "print(\"Unrounded =\", val)\n",
        "print(\"Rounded to 5 decimals =\", round(val, 5))\n",
        "\n",
        "print(\"Check equality to 1.2 unrounded:\", val == 1.2)\n",
        "print(\"Check equality to 1.2 after rounding:\", round(val, 5) == round(1.2, 5))\n"
      ],
      "metadata": {
        "colab": {
          "base_uri": "https://localhost:8080/"
        },
        "id": "O6P-9MxwodWI",
        "outputId": "fe0f4226-4f56-4a9a-b3d5-fc002fdaa001"
      },
      "execution_count": null,
      "outputs": [
        {
          "output_type": "stream",
          "name": "stdout",
          "text": [
            "Unrounded = 1.2000000000000002\n",
            "Rounded to 5 decimals = 1.2\n",
            "Check equality to 1.2 unrounded: False\n",
            "Check equality to 1.2 after rounding: True\n"
          ]
        }
      ]
    }
  ]
}