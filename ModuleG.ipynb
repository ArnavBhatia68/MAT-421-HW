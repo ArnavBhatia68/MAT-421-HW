{
  "nbformat": 4,
  "nbformat_minor": 0,
  "metadata": {
    "colab": {
      "provenance": [],
      "authorship_tag": "ABX9TyNtexzpFJ2rjhVWoMz1DYFK",
      "include_colab_link": true
    },
    "kernelspec": {
      "name": "python3",
      "display_name": "Python 3"
    },
    "language_info": {
      "name": "python"
    }
  },
  "cells": [
    {
      "cell_type": "markdown",
      "metadata": {
        "id": "view-in-github",
        "colab_type": "text"
      },
      "source": [
        "<a href=\"https://colab.research.google.com/github/ArnavBhatia68/MAT-421-HW/blob/main/ModuleG.ipynb\" target=\"_parent\"><img src=\"https://colab.research.google.com/assets/colab-badge.svg\" alt=\"Open In Colab\"/></a>"
      ]
    },
    {
      "cell_type": "markdown",
      "source": [
        "HW8 – Arnav Bhatia\n",
        "\n",
        "Course: MAT421\n",
        "\n",
        "Date: 3/4\n",
        "\n",
        "\n"
      ],
      "metadata": {
        "id": "awtMTKBnqZsT"
      }
    },
    {
      "cell_type": "markdown",
      "source": [
        "1. Numerical Integration Problem Statement\n",
        "\n",
        "We wish to approximate the integral\n",
        "\n",
        "∫[a,b] f(x) dx\n",
        "\n",
        "using a numerical grid with n+1 evenly spaced points over [a,b]. The spacing (or step size) is\n",
        "\n",
        "h = (b - a) / (n - 1).\n",
        "\n",
        "Each subinterval is [x_i, x_i+1] and the integral is approximated by summing contributions from each subinterval.\n",
        "\n",
        "Below is a schematic of the numerical grid:\n"
      ],
      "metadata": {
        "id": "hjeb2I5jqjau"
      }
    },
    {
      "cell_type": "code",
      "source": [
        "print(' x-2   x-1     x    x+1   x+2   x+3  ')\n",
        "print('   |     |     |     |     |     |   ')\n",
        "print('------------------------------------->x')\n",
        "print('   |<-h->|<-h->|<-h->|<-h->|<-h->|')\n"
      ],
      "metadata": {
        "colab": {
          "base_uri": "https://localhost:8080/"
        },
        "id": "MS-Zf8klqxHH",
        "outputId": "ab6f8994-be33-4960-934f-96fda0e60105"
      },
      "execution_count": 1,
      "outputs": [
        {
          "output_type": "stream",
          "name": "stdout",
          "text": [
            " x-2   x-1     x    x+1   x+2   x+3  \n",
            "   |     |     |     |     |     |   \n",
            "------------------------------------->x\n",
            "   |<-h->|<-h->|<-h->|<-h->|<-h->|\n"
          ]
        }
      ]
    },
    {
      "cell_type": "markdown",
      "source": [
        "2. Riemann’s Integral\n",
        "\n",
        "One way to approximate the integral is by summing the areas of rectangles over each subinterval. Depending on the chosen endpoint for the rectangle’s height, we have:\n",
        "\n",
        "Left Riemann Sum:\n",
        "I_left ≈ h ∑[i=0 to n-2] f(x_i)\n",
        "\n",
        "Right Riemann Sum:\n",
        "I_right ≈ h ∑[i=1 to n-1] f(x_i)\n",
        "\n",
        "Midpoint Rule:\n",
        "For each subinterval, use the function value at the midpoint:\n",
        "I_mid ≈ h ∑[i=0 to n-2] f((x_i + x_i+1) / 2)\n",
        "\n",
        "In our example, we approximate\n",
        "\n",
        "∫[0,π] sin(x) dx,\n",
        "\n",
        "which has the exact value of 2.\n"
      ],
      "metadata": {
        "id": "wKHsYMgfrGzU"
      }
    },
    {
      "cell_type": "code",
      "source": [
        "import numpy as np\n",
        "import matplotlib.pyplot as plt\n",
        "\n",
        "# Define interval and grid parameters\n",
        "a = 0\n",
        "b = np.pi\n",
        "n = 13\n",
        "h = (b - a) / (n - 1)\n",
        "x = np.linspace(a, b, n)\n",
        "\n",
        "# Define the function f(x) = sin(x) so that ∫_0^π sin(x) dx = 2\n",
        "f = np.sin(x)\n",
        "\n",
        "# Left Riemann Sum\n",
        "I_left = h * np.sum(f[:-1])\n",
        "err_left = 2 - I_left\n",
        "\n",
        "# Right Riemann Sum\n",
        "I_right = h * np.sum(f[1:])\n",
        "err_right = 2 - I_right\n",
        "\n",
        "# Midpoint Rule\n",
        "x_mid = (x[:-1] + x[1:]) / 2  # midpoints of each subinterval\n",
        "I_mid = h * np.sum(np.sin(x_mid))\n",
        "err_mid = 2 - I_mid\n",
        "\n",
        "print(\"Left Riemann Sum =\", I_left)\n",
        "print(\"Error (Left) =\", err_left)\n",
        "print(\"Right Riemann Sum =\", I_right)\n",
        "print(\"Error (Right) =\", err_right)\n",
        "print(\"Midpoint Rule =\", I_mid)\n",
        "print(\"Error (Midpoint) =\", err_mid)\n"
      ],
      "metadata": {
        "colab": {
          "base_uri": "https://localhost:8080/"
        },
        "id": "OZa0S_yKrL54",
        "outputId": "73f5c92c-7d46-4104-e19b-b16ce50cef05"
      },
      "execution_count": 2,
      "outputs": [
        {
          "output_type": "stream",
          "name": "stdout",
          "text": [
            "Left Riemann Sum = 1.9885637765843154\n",
            "Error (Left) = 0.011436223415684621\n",
            "Right Riemann Sum = 1.9885637765843156\n",
            "Error (Right) = 0.011436223415684399\n",
            "Midpoint Rule = 2.0057230150235816\n",
            "Error (Midpoint) = -0.005723015023581635\n"
          ]
        }
      ]
    },
    {
      "cell_type": "markdown",
      "source": [
        "When we run this cell, we see approximations for the integral along with their errors relative to the exact value of 2.\n",
        "\n"
      ],
      "metadata": {
        "id": "qehMy6cQraLZ"
      }
    },
    {
      "cell_type": "markdown",
      "source": [
        "3. Trapazoid rule\n",
        "\n",
        "The Trapazoid rule fits a trapezoid into each subinterval and sums the areas of the trapezoid to approximate the total integral."
      ],
      "metadata": {
        "id": "7CBqjr8ArhT0"
      }
    },
    {
      "cell_type": "code",
      "source": [
        "# Using the same grid and function as above (f(x) = sin(x))\n",
        "I_trap = (h / 2) * (f[0] + 2 * np.sum(f[1:-1]) + f[-1])\n",
        "err_trap = 2 - I_trap\n",
        "\n",
        "print(\"Trapezoid Rule =\", I_trap)\n",
        "print(\"Error (Trapezoid) =\", err_trap)\n"
      ],
      "metadata": {
        "colab": {
          "base_uri": "https://localhost:8080/"
        },
        "id": "u8MpbradruSY",
        "outputId": "8179a017-e6d0-4781-c0b1-27739a5153ce"
      },
      "execution_count": 3,
      "outputs": [
        {
          "output_type": "stream",
          "name": "stdout",
          "text": [
            "Trapezoid Rule = 1.9885637765843156\n",
            "Error (Trapezoid) = 0.011436223415684399\n"
          ]
        }
      ]
    },
    {
      "cell_type": "markdown",
      "source": [
        "In this cell, the trapezoidal approximation is computed and its error relative to the exact value (2) is printed."
      ],
      "metadata": {
        "id": "jqHMzYhDr4Y9"
      }
    }
  ]
}