{
  "nbformat": 4,
  "nbformat_minor": 0,
  "metadata": {
    "colab": {
      "provenance": [],
      "authorship_tag": "ABX9TyOH0UbdgsBO5ekEErVGC2tn",
      "include_colab_link": true
    },
    "kernelspec": {
      "name": "python3",
      "display_name": "Python 3"
    },
    "language_info": {
      "name": "python"
    }
  },
  "cells": [
    {
      "cell_type": "markdown",
      "metadata": {
        "id": "view-in-github",
        "colab_type": "text"
      },
      "source": [
        "<a href=\"https://colab.research.google.com/github/ArnavBhatia68/MAT-421-HW/blob/main/ModuleD.ipynb\" target=\"_parent\"><img src=\"https://colab.research.google.com/assets/colab-badge.svg\" alt=\"Open In Colab\"/></a>"
      ]
    },
    {
      "cell_type": "markdown",
      "source": [
        "HW5 – Arnav Bhatia\n",
        "\n",
        "Course: MAT421\n",
        "\n",
        "Date : 02/12\n"
      ],
      "metadata": {
        "id": "R_w5SzOO5-qp"
      }
    },
    {
      "cell_type": "markdown",
      "source": [
        "1.1 **Linear Space**\n",
        "\n",
        "A linear (vector) space over a field (e.g. R) is a set of elements (vectors) that can be added together and scaled by scalars (real numbers) in a way that follows certain axioms (commutativity, associativity, distributivity, etc.).\n"
      ],
      "metadata": {
        "id": "Evv5KEH46V_l"
      }
    },
    {
      "cell_type": "markdown",
      "source": [
        "Example: Creating Vectors and Matrices in Python"
      ],
      "metadata": {
        "id": "xW20kowL6s35"
      }
    },
    {
      "cell_type": "code",
      "source": [
        "\n",
        "\n",
        "import numpy as np\n",
        "\n",
        "# A simple 1D array = vector\n",
        "v1 = np.array([1, 3, 5])\n",
        "print(\"Vector v1 =\", v1)\n",
        "\n",
        "# A 2D array = matrix\n",
        "M1 = np.array([[1, 2, 3],\n",
        "               [4, 5, 6],\n",
        "               [7, 8, 9]])\n",
        "print(\"Matrix M1:\\n\", M1)\n",
        "\n",
        "# Basic operations: addition, scalar multiplication\n",
        "v2 = np.array([2, 4, 6])\n",
        "v_sum = v1 + v2\n",
        "v_scaled = 2 * v1\n",
        "print(\"v1 + v2 =\", v_sum)\n",
        "print(\"2 * v1 =\", v_scaled)\n"
      ],
      "metadata": {
        "colab": {
          "base_uri": "https://localhost:8080/"
        },
        "id": "7_mjxSqb6tQ3",
        "outputId": "00316f7b-b03e-4653-d66a-bf639900b897"
      },
      "execution_count": 8,
      "outputs": [
        {
          "output_type": "stream",
          "name": "stdout",
          "text": [
            "Vector v1 = [1 3 5]\n",
            "Matrix M1:\n",
            " [[1 2 3]\n",
            " [4 5 6]\n",
            " [7 8 9]]\n",
            "v1 + v2 = [ 3  7 11]\n",
            "2 * v1 = [ 2  6 10]\n"
          ]
        }
      ]
    },
    {
      "cell_type": "markdown",
      "source": [
        "2. **Orthogonality**"
      ],
      "metadata": {
        "id": "FEQQAuGT6-9a"
      }
    },
    {
      "cell_type": "markdown",
      "source": [
        "Two vectors u and v in R^n are orthogonal (perpendicular) if their dot product is 0.\n",
        "More broadly, we can speak of orthogonal matrices or transformations.\n"
      ],
      "metadata": {
        "id": "BWkx-f5H7BdY"
      }
    },
    {
      "cell_type": "code",
      "source": [
        "\n",
        "\n",
        "v3 = np.array([1, 0, 0])\n",
        "v4 = np.array([0, 2, 0])\n",
        "\n",
        "dot_v3_v4 = np.dot(v3, v4)\n",
        "print(\"dot(v3, v4) =\", dot_v3_v4)\n",
        "\n",
        "if dot_v3_v4 == 0:\n",
        "    print(\"v3 and v4 are orthogonal.\")\n",
        "else:\n",
        "    print(\"v3 and v4 are NOT orthogonal.\")\n"
      ],
      "metadata": {
        "colab": {
          "base_uri": "https://localhost:8080/"
        },
        "id": "vQRvFgr17Glt",
        "outputId": "4510ff0f-5223-4f73-e415-2defeb6449c0"
      },
      "execution_count": 7,
      "outputs": [
        {
          "output_type": "stream",
          "name": "stdout",
          "text": [
            "dot(v3, v4) = 0\n",
            "v3 and v4 are orthogonal.\n"
          ]
        }
      ]
    },
    {
      "cell_type": "markdown",
      "source": [
        "3. **Eigenvalues and Eigenvectors**"
      ],
      "metadata": {
        "id": "9F467AYL7MDt"
      }
    },
    {
      "cell_type": "markdown",
      "source": [
        "Given a square matrix A, an eigenvalue λ and eigenvector x satisfy Ax = λx.\n",
        "In NumPy, we can use numpy.linalg.eig.\n"
      ],
      "metadata": {
        "id": "NFAt8JSi7Ma3"
      }
    },
    {
      "cell_type": "markdown",
      "source": [
        "Example"
      ],
      "metadata": {
        "id": "bTgESPyR7SFH"
      }
    },
    {
      "cell_type": "code",
      "source": [
        "\n",
        "\n",
        "from numpy.linalg import eig\n",
        "\n",
        "# Define a 3x3 matrix\n",
        "A = np.array([[2, 0, 0],\n",
        "              [0, 3, 0],\n",
        "              [0, 0, 4]])\n",
        "\n",
        "# Compute eigenvalues (w) and eigenvectors (v)\n",
        "w, v = eig(A)\n",
        "\n",
        "print(\"Eigenvalues:\", w)\n",
        "print(\"Eigenvectors:\\n\", v)\n"
      ],
      "metadata": {
        "colab": {
          "base_uri": "https://localhost:8080/"
        },
        "id": "ob5IjcLF7Tfd",
        "outputId": "cf7a1171-e3a5-4d1a-a705-c615f51543c1"
      },
      "execution_count": 6,
      "outputs": [
        {
          "output_type": "stream",
          "name": "stdout",
          "text": [
            "Eigenvalues: [2. 3. 4.]\n",
            "Eigenvectors:\n",
            " [[1. 0. 0.]\n",
            " [0. 1. 0.]\n",
            " [0. 0. 1.]]\n"
          ]
        }
      ]
    },
    {
      "cell_type": "markdown",
      "source": [
        "We see that the eigenvalues are {2, 3, 4}.\n",
        "The corresponding eigenvectors are typically the standard basis if the matrix is diagonal like this.\n"
      ],
      "metadata": {
        "id": "ZoJAr18F7k6z"
      }
    },
    {
      "cell_type": "markdown",
      "source": [
        "**Linear Regression**"
      ],
      "metadata": {
        "id": "bt28LXUO7nGH"
      }
    },
    {
      "cell_type": "markdown",
      "source": [
        "Concept Explanation\n",
        "\n",
        "Linear regression attempts to fit a line or polynomial (in general) to data\n",
        "(x_i, y_i) by minimizing the sum of squared errors (residuals).\n",
        "The simplest form is a line y = β_0 + β_1 x.\n",
        "For polynomial fitting, we can use a design matrix with terms x, x^2, ….\n"
      ],
      "metadata": {
        "id": "HglOnnw-7tu1"
      }
    },
    {
      "cell_type": "code",
      "source": [
        "\n",
        "\n",
        "import matplotlib.pyplot as plt\n",
        "\n",
        "# Generate synthetic data\n",
        "x = np.linspace(0, 20, 200)\n",
        "# True model: y = 2 + 0.3*x^2 + some noise\n",
        "rng = np.random.default_rng(42)\n",
        "noise = rng.normal(loc=0, scale=10, size=len(x))\n",
        "y = 2 + 0.3*(x**2) + noise\n",
        "\n",
        "# Reshape y to be a column vector for matrix ops\n",
        "y = y[:, np.newaxis]\n",
        "\n",
        "# Create a design matrix for quadratic fit: [x^2, x, 1]\n",
        "# A will be shape (N, 3)\n",
        "A = np.vstack([x**2, x, np.ones(len(x))]).T\n",
        "\n",
        "# Solve for coefficients: alpha = (A^T A)^(-1) A^T y\n",
        "alpha = np.linalg.inv(A.T @ A) @ (A.T @ y)\n",
        "\n",
        "# alpha will contain [coef_x^2, coef_x, intercept]\n",
        "print(\"Coefficients (Quadratic):\", alpha.ravel())\n",
        "\n",
        "# Plot the data vs. fitted curve\n",
        "y_fit = alpha[0]*x**2 + alpha[1]*x + alpha[2]\n",
        "\n",
        "plt.figure(figsize=(7,5))\n",
        "plt.scatter(x, y, s=10, label=\"Data\")\n",
        "plt.plot(x, y_fit, 'r', label=\"Fitted curve\")\n",
        "plt.legend()\n",
        "plt.title(\"Polynomial Regression (Quadratic)\")\n",
        "plt.xlabel(\"x\")\n",
        "plt.ylabel(\"y\")\n",
        "plt.show()\n"
      ],
      "metadata": {
        "colab": {
          "base_uri": "https://localhost:8080/",
          "height": 505
        },
        "id": "8uSyyEP873-S",
        "outputId": "6371e265-3ace-4ca6-dc7f-6c359231fa05"
      },
      "execution_count": 5,
      "outputs": [
        {
          "output_type": "stream",
          "name": "stdout",
          "text": [
            "Coefficients (Quadratic): [ 0.32636344 -0.51788256  3.35036096]\n"
          ]
        },
        {
          "output_type": "display_data",
          "data": {
            "text/plain": [
              "<Figure size 700x500 with 1 Axes>"
            ],
            "image/png": "[encoded data removed]"
          },
          "metadata": {}
        }
      ]
    },
    {
      "cell_type": "markdown",
      "source": [
        "Interpretation:\n",
        "\n",
        "We generated data from y = 2 + 0.3x^2 plus noise.\n",
        "Using matrix operations, we solved for a quadratic approximation.\n",
        "We can see how close the red fit is to the actual data points.\n",
        "\n"
      ],
      "metadata": {
        "id": "YREydtyz7-cY"
      }
    }
  ]
}