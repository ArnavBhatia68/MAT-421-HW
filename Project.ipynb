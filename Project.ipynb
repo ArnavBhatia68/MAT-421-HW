{
  "nbformat": 4,
  "nbformat_minor": 0,
  "metadata": {
    "colab": {
      "provenance": [],
      "authorship_tag": "ABX9TyOeAL99JVUtgucd94D1N7/y",
      "include_colab_link": true
    },
    "kernelspec": {
      "name": "python3",
      "display_name": "Python 3"
    },
    "language_info": {
      "name": "python"
    }
  },
  "cells": [
    {
      "cell_type": "markdown",
      "metadata": {
        "id": "view-in-github",
        "colab_type": "text"
      },
      "source": [
        "<a href=\"https://colab.research.google.com/github/ArnavBhatia68/MAT-421-HW/blob/main/Project.ipynb\" target=\"_parent\"><img src=\"https://colab.research.google.com/assets/colab-badge.svg\" alt=\"Open In Colab\"/></a>"
      ]
    },
    {
      "cell_type": "markdown",
      "source": [
        "**MAT 421 PROJECT : ARNAV BHATIA**\n",
        "\n",
        "abhati35@asu.edu\n",
        "\n",
        "April 23, 2025\n",
        "\n",
        "\n",
        "# **Predicting Diabetes Using Logistic Regression**\n",
        "\n",
        "\n",
        "**INTRODUCTION**\n",
        "\n",
        "Diabetes mellitus, commonly referred to as diabetes, is a chronic health condition that affects millions of people worldwide and poses substantial health, economic, and societal challenges (World Health Organization, 2023). It is characterized by elevated blood glucose levels resulting from inadequate insulin production, impaired insulin utilization, or both (American Diabetes Association, 2022). Diabetes can lead to severe complications such as cardiovascular diseases, kidney damage, vision impairment, and neurological disorders if not managed effectively (Centers for Disease Control and Prevention, 2022).\n",
        "\n",
        "Early diagnosis and preventive measures significantly improve the prognosis for individuals at risk, making predictive modeling an essential tool in contemporary medical practice (Smith et al., 2018). Accurate prediction models can assist healthcare providers in identifying individuals likely to develop diabetes, thereby facilitating early interventions, tailored treatments, and proactive health management (Kumar et al., 2020).\n",
        "\n",
        "This paper addresses the application of computational numerical methods, specifically logistic regression, to predict diabetes using clinically relevant patient features such as glucose levels, body mass index (BMI), age, and blood pressure. Logistic regression is chosen due to its robustness, interpretability, and effectiveness in handling binary classification problems prevalent in medical diagnosis (James et al., 2013).\n",
        "\n",
        "The primary objective of this paper is to develop a logistic regression-based predictive model using the Pima Indians Diabetes Database (UCI Machine Learning Repository, 2023), evaluating its effectiveness through standard metrics such as accuracy, precision, recall, F1-score, and Receiver Operating Characteristic (ROC) analysis. The significance of this work lies in demonstrating a clear, practical approach to predictive modeling that can potentially enhance clinical decision-making and patient outcomes in diabetes management.\n",
        "\n",
        "**MATH METHOD: Logistic Regression**\n",
        "\n",
        "Logistic regression is a statistical method used primarily for binary classification problems. Unlike linear regression, logistic regression predicts the probability that a given instance belongs to a specific class (James et al., 2013). It is particularly valuable in medical diagnosis because of its interpretability, computational simplicity, and robust performance with binary outcome variables (Smith et al., 2018).\n",
        "\n",
        "**Mathematical Foundation**\n",
        "\n",
        "The core of logistic regression is the logistic (sigmoid) function, defined as follows:\n",
        "\n",
        "σ(z) = 1 / (1 + e^(-z))\n",
        "\n",
        "where:\n",
        "σ(z) is the sigmoid function,\n",
        "z is the linear combination of the input features and parameters.\n",
        "\n",
        "Given a set of input features x₁, x₂, ..., xₙ and parameters (weights) β₀, β₁, ..., βₙ, the logistic regression model predicts the probability p that a certain event occurs (e.g., presence of diabetes):\n",
        "\n",
        "p = P(y = 1 | x) = 1 / (1 + e^(-(β₀ + β₁x₁ + β₂x₂ + ⋯ + βₙxₙ)))\n",
        "\n",
        "The linear term z = β₀ + β₁x₁ + β₂x₂ + ⋯ + βₙxₙ is the weighted sum of the input features, including the intercept term β₀.\n",
        "\n",
        "**Parameter Estimation (Cost Function)**\n",
        "\n",
        "The parameters β are estimated by maximizing the likelihood of the observed data under the logistic regression model. This is equivalent to minimizing the cost function, known as the log-loss or cross-entropy loss, defined as:\n",
        "\n",
        "J(β) = −(1/m) ∑ᵢ=1ᵐ [ y⁽ⁱ⁾ log(p⁽ⁱ⁾) + (1 − y⁽ⁱ⁾) log(1 − p⁽ⁱ⁾) ]\n",
        "\n",
        "where:\n",
        "m is the number of samples,\n",
        "y⁽ⁱ⁾ is the actual class label (0 or 1) of the i-th sample,\n",
        "p⁽ⁱ⁾ is the predicted probability for the i-th sample.\n",
        "\n",
        "**Optimization (Gradient Descent)**\n",
        "\n",
        "To find the optimal values for β, gradient descent or other optimization techniques are applied. The update rule for gradient descent is given by:\n",
        "\n",
        "βⱼ := βⱼ − α ∂J(β)/∂βⱼ\n",
        "\n",
        "where:\n",
        "α is the learning rate (step size),\n",
        "\n",
        "The gradient of the cost function with respect to parameter βⱼ is calculated by:\n",
        "\n",
        "∂J(β)/∂βⱼ = (1/m) ∑ᵢ=1ᵐ (p⁽ⁱ⁾ − y⁽ⁱ⁾) xⱼ⁽ⁱ⁾\n",
        "\n",
        "This iterative procedure continues until convergence, resulting in optimal model parameters.\n",
        "\n",
        "**Evaluation Metrics**\n",
        "\n",
        "The effectiveness of logistic regression models is typically evaluated using several key metrics including accuracy, precision, recall, F1-score, and the Area Under the Receiver Operating Characteristic Curve (ROC-AUC):\n",
        "\n",
        "Accuracy: Proportion of correctly classified instances.\n",
        "Precision: Proportion of true positives among instances classified as positive.\n",
        "Recall: Proportion of true positives correctly identified by the model.\n",
        "F1-score: Harmonic mean of precision and recall, providing balanced insight.\n",
        "ROC-AUC: Summarizes performance across all classification thresholds.\n",
        "\n",
        "\n"
      ],
      "metadata": {
        "id": "MzzrkFEVb_RK"
      }
    }
  ]
}