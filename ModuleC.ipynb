{
  "nbformat": 4,
  "nbformat_minor": 0,
  "metadata": {
    "colab": {
      "provenance": [],
      "authorship_tag": "ABX9TyPF8+k0ZbjK69aUJ7eboKWs",
      "include_colab_link": true
    },
    "kernelspec": {
      "name": "python3",
      "display_name": "Python 3"
    },
    "language_info": {
      "name": "python"
    }
  },
  "cells": [
    {
      "cell_type": "markdown",
      "metadata": {
        "id": "view-in-github",
        "colab_type": "text"
      },
      "source": [
        "<a href=\"https://colab.research.google.com/github/ArnavBhatia68/MAT-421-HW/blob/main/ModuleC.ipynb\" target=\"_parent\"><img src=\"https://colab.research.google.com/assets/colab-badge.svg\" alt=\"Open In Colab\"/></a>"
      ]
    },
    {
      "cell_type": "markdown",
      "source": [
        "HW4 - Arnav Bhatia\n",
        "\n",
        "Course: MAT421\n",
        "\n",
        "Date: 02/09\n"
      ],
      "metadata": {
        "id": "EZI-G8NWuRp1"
      }
    },
    {
      "cell_type": "markdown",
      "source": [
        "**19.1 Root Finding Problem Statement**\n",
        "\n",
        "Root finding is about solving equations of the form f(x) = 0. In simpler algebraic cases (x^2 − 9 = 0), you might solve them analytically. For more complex functions (e.g., f(x) = cos(x) − x), we often use numerical methods.\n",
        "\n",
        "Example: Solve cos(x) − 1 = 0. The exact root is 2πk for integer k. Numerically, we can use functions like scipy.optimize.fsolve.\n"
      ],
      "metadata": {
        "id": "lMJchIEWuhiO"
      }
    },
    {
      "cell_type": "code",
      "source": [
        "# In [1]:\n",
        "\n",
        "import numpy as np\n",
        "from scipy import optimize\n",
        "\n",
        "f = lambda x: np.cos(x) - 1\n",
        "\n",
        "# We'll guess a starting point near x = 0\n",
        "root_guess = 0.1\n",
        "r = optimize.fsolve(f, root_guess)\n",
        "\n",
        "print(\"Root found:\", r)\n",
        "print(\"f(root) =\", f(r))\n"
      ],
      "metadata": {
        "colab": {
          "base_uri": "https://localhost:8080/"
        },
        "id": "gGi4laC1u0JH",
        "outputId": "e6d5eb9f-dbf3-49b5-9ead-70661e2d2996"
      },
      "execution_count": 1,
      "outputs": [
        {
          "output_type": "stream",
          "name": "stdout",
          "text": [
            "Root found: [1.61686399e-08]\n",
            "f(root) = [-1.11022302e-16]\n"
          ]
        },
        {
          "output_type": "stream",
          "name": "stderr",
          "text": [
            "<ipython-input-1-923ae3af41d7>:10: RuntimeWarning: The iteration is not making good progress, as measured by the \n",
            "  improvement from the last ten iterations.\n",
            "  r = optimize.fsolve(f, root_guess)\n"
          ]
        }
      ]
    },
    {
      "cell_type": "markdown",
      "source": [
        "This returns a value very close to 0 (since cos(0) = 1), verifying that f(r) ~= 0.\n"
      ],
      "metadata": {
        "id": "ro_WPED9vGY1"
      }
    },
    {
      "cell_type": "markdown",
      "source": [
        "**19.2 Tolerance**\n",
        "\n",
        "Tolerance is the error bound we consider good enough. Numerical root-finding methods are iterative as they keep refining guesses until either:\n",
        "\n",
        "∣f(x_new)∣ is below some threshold (e.g., 10^−6), or  \n",
        "The change in x between iterations is smaller than a set tolerance.\n",
        "\n",
        "Being mindful of tolerance is important because:\n",
        "\n",
        "- Too large a tolerance can lead to a rough answer.\n",
        "- Too small a tolerance can lead to unnecessary computation or issues with floating-point limits.\n",
        "\n",
        "Example: If we want ∣f(x)∣ < 10^−3, we can see how many iterations it takes to reach that condition.\n"
      ],
      "metadata": {
        "id": "2CprC-LovQLV"
      }
    },
    {
      "cell_type": "markdown",
      "source": [
        "**19.3 Bisection Method**\n",
        "\n",
        "Theory Overview  \n",
        "\n",
        "The Bisection Method uses the Intermediate Value Theorem: if f is continuous on [a, b] and f(a) and f(b) have opposite signs, then there must be a root in (a, b).  \n",
        "\n",
        "We repeatedly bisect the interval by checking the midpoint and replace one endpoint with the midpoint, ensuring the root stays bracketed.\n"
      ],
      "metadata": {
        "id": "LBOz-sMFvlTO"
      }
    },
    {
      "cell_type": "markdown",
      "source": [
        "Implementation"
      ],
      "metadata": {
        "id": "ySTPEKdcvrCZ"
      }
    },
    {
      "cell_type": "code",
      "source": [
        "# In [2]:\n",
        "\n",
        "def bisection_method(f, a, b, tol=1e-5):\n",
        "    \"\"\"\n",
        "    Find a root of f(x)=0 on [a,b] using the bisection method\n",
        "    and a given tolerance.\n",
        "    \"\"\"\n",
        "    if np.sign(f(a)) == np.sign(f(b)):\n",
        "        raise ValueError(\"f(a) and f(b) must have opposite signs!\")\n",
        "\n",
        "    mid = (a + b) / 2.0\n",
        "\n",
        "    # Check if the midpoint is close enough to a root\n",
        "    if abs(f(mid)) < tol:\n",
        "        return mid\n",
        "\n",
        "    # Otherwise, decide which half to keep\n",
        "    if np.sign(f(a)) == np.sign(f(mid)):\n",
        "        # The root is in the [mid, b]\n",
        "        return bisection_method(f, mid, b, tol)\n",
        "    else:\n",
        "        # The root is in the [a, mid]\n",
        "        return bisection_method(f, a, mid, tol)\n",
        "\n",
        "# Example: Find sqrt(3) by solving f(x) = x^2 - 3\n",
        "f_example = lambda x: x**2 - 3\n",
        "\n",
        "root_bi_1 = bisection_method(f_example, 0, 2, tol=1e-3)\n",
        "root_bi_2 = bisection_method(f_example, 0, 2, tol=1e-6)\n",
        "\n",
        "print(\"Bisection root with tol=1e-3:\", root_bi_1)\n",
        "print(\"Bisection root with tol=1e-6:\", root_bi_2)\n",
        "print(\"Actual sqrt(3):\", np.sqrt(3))\n"
      ],
      "metadata": {
        "colab": {
          "base_uri": "https://localhost:8080/"
        },
        "id": "ag4K18-jvshd",
        "outputId": "220f4bc4-c1e3-4345-9b1d-76a01c4747cf"
      },
      "execution_count": 2,
      "outputs": [
        {
          "output_type": "stream",
          "name": "stdout",
          "text": [
            "Bisection root with tol=1e-3: 1.73193359375\n",
            "Bisection root with tol=1e-6: 1.732050895690918\n",
            "Actual sqrt(3): 1.7320508075688772\n"
          ]
        }
      ]
    },
    {
      "cell_type": "markdown",
      "source": [
        "Notice the difference in accuracy between tol=1e-3 and tol=1e-6.  \n",
        "\n",
        "Bisection is guaranteed to converge if f is continuous and f(a) and f(b) have opposite signs.\n"
      ],
      "metadata": {
        "id": "YaHJa42qvyE5"
      }
    },
    {
      "cell_type": "markdown",
      "source": [
        "**19.4 Newton-Raphson Method**\n",
        "\n",
        "Theory Overview  \n",
        "\n",
        "The Newton-Raphson Method iterates using:  \n",
        "\n",
        "x_(n+1) = x_n - f(x_n) / f'(x_n).  \n",
        "\n",
        "It converges much faster than Bisection if the initial guess is close enough and f'(x) is not equal to 0.  \n",
        "However, if the derivative is zero or the guess is not close, Newton-Raphson can fail or diverge.\n"
      ],
      "metadata": {
        "id": "g_Y-6c0Dv1w4"
      }
    },
    {
      "cell_type": "code",
      "source": [
        "# In [3]:\n",
        "\n",
        "def newton_raphson_method(f, df, x0, tol=1e-6, max_iter=100):\n",
        "\n",
        "    x = x0\n",
        "    for i in range(max_iter):\n",
        "        y = f(x)\n",
        "        dy = df(x)\n",
        "\n",
        "        # If derivative is zero, we risk dividing by zero\n",
        "        if abs(dy) < 1e-12:\n",
        "            print(\"Derivative near zero. Stopping.\")\n",
        "            return x\n",
        "\n",
        "        x_next = x - y/dy\n",
        "\n",
        "        if abs(f(x_next)) < tol:\n",
        "            return x_next\n",
        "\n",
        "        x = x_next\n",
        "\n",
        "    print(\"Warning: max iterations reached. Approx root =\", x)\n",
        "    return x\n",
        "\n",
        "# Example with the same function: x^2 - 3 = 0\n",
        "f_example = lambda x: x**2 - 3\n",
        "df_example = lambda x: 2*x\n",
        "\n",
        "root_nr = newton_raphson_method(f_example, df_example, x0=1.0, tol=1e-7)\n",
        "print(\"Newton-Raphson root:\", root_nr)\n",
        "print(\"Actual sqrt(3):\", np.sqrt(3))\n"
      ],
      "metadata": {
        "colab": {
          "base_uri": "https://localhost:8080/"
        },
        "id": "akcQWDkZwBJN",
        "outputId": "b8a2b06d-7c2a-4dad-bd1d-ad0873f96f35"
      },
      "execution_count": 3,
      "outputs": [
        {
          "output_type": "stream",
          "name": "stdout",
          "text": [
            "Newton-Raphson root: 1.7320508100147276\n",
            "Actual sqrt(3): 1.7320508075688772\n"
          ]
        }
      ]
    },
    {
      "cell_type": "markdown",
      "source": [
        "**19.5 Root Finding in Python**\n",
        "\n",
        "Modern Python libraries allow you to avoid manually coding iterative root-finding algorithms.  \n",
        "One of the most common methods is scipy.optimize.fsolve, which internally uses a variant of the Newton or Hybrid methods to find roots of f(x) = 0.  \n",
        "\n",
        "Key points about fsolve:  \n",
        "- You define a function f(x) (or use lambda for quick inline definitions).  \n",
        "- You provide an initial guess (or multiple guesses in a list/array).  \n",
        "- fsolve then attempts to converge to the root(s) of f(x).  \n"
      ],
      "metadata": {
        "id": "76I7cLaVwwbM"
      }
    },
    {
      "cell_type": "markdown",
      "source": [
        "Example"
      ],
      "metadata": {
        "id": "Tma93qvlw1Fa"
      }
    },
    {
      "cell_type": "code",
      "source": [
        "from scipy.optimize import fsolve\n",
        "\n",
        "# Define a function\n",
        "f = lambda x: x**3 - 100*x**2 - x + 100\n",
        "\n",
        "# Provide two initial guesses [2, 80] to look for two separate roots\n",
        "roots = fsolve(f, [2, 80])\n",
        "print(roots)\n"
      ],
      "metadata": {
        "colab": {
          "base_uri": "https://localhost:8080/"
        },
        "id": "r6IjDoFGw1iV",
        "outputId": "a074f3ba-57ab-44b0-e9bc-250686b4a91e"
      },
      "execution_count": 4,
      "outputs": [
        {
          "output_type": "stream",
          "name": "stdout",
          "text": [
            "[  1. 100.]\n"
          ]
        }
      ]
    },
    {
      "cell_type": "markdown",
      "source": [
        "Here, fsolve found two roots: x = 1 and x = 100, each corresponding to one of the initial guesses."
      ],
      "metadata": {
        "id": "z0afQtKOw6uG"
      }
    }
  ]
}